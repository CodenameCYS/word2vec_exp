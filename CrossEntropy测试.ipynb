{
 "cells": [
  {
   "cell_type": "code",
   "execution_count": 1,
   "metadata": {},
   "outputs": [],
   "source": [
    "import tensorflow as tf\n",
    "import torch\n",
    "import numpy"
   ]
  },
  {
   "cell_type": "code",
   "execution_count": 2,
   "metadata": {},
   "outputs": [],
   "source": [
    "import os\n",
    "\n",
    "os.environ[\"CUDA_VISIBLE_DEVICES\"] = \"\""
   ]
  },
  {
   "cell_type": "code",
   "execution_count": 40,
   "metadata": {},
   "outputs": [],
   "source": [
    "y_true = numpy.array([[1,0,0,0], [0,1,0,0]])\n",
    "y_pred = numpy.array([[0.1,0.2,0.3,0.4], [0.4,0.3,0.2,0.1]])"
   ]
  },
  {
   "cell_type": "code",
   "execution_count": 15,
   "metadata": {},
   "outputs": [],
   "source": [
    "def cross_entropy(y_pred, y_true):\n",
    "    # y_pred = torch.nn.functional.softmax(y_pred, dim=-1)\n",
    "    category = y_pred.size()[-1]\n",
    "    y_true = torch.nn.functional.one_hot(y_true, num_classes=category)\n",
    "    loss = - (y_true * torch.log(y_pred) + (1-y_true) * torch.log(1-y_pred))\n",
    "    return torch.mean(torch.sum(loss, dim=-1))"
   ]
  },
  {
   "cell_type": "code",
   "execution_count": 16,
   "metadata": {},
   "outputs": [
    {
     "name": "stdout",
     "output_type": "stream",
     "text": [
      "tensor(2.7183)\n"
     ]
    }
   ],
   "source": [
    "s1 = cross_entropy(torch.Tensor(y_pred), torch.argmax(torch.Tensor(y_true), dim=-1))\n",
    "print(s1)"
   ]
  },
  {
   "cell_type": "code",
   "execution_count": 10,
   "metadata": {},
   "outputs": [
    {
     "name": "stdout",
     "output_type": "stream",
     "text": [
      "tensor(1.4425)\n"
     ]
    }
   ],
   "source": [
    "s2 = torch.nn.CrossEntropyLoss()(torch.Tensor(y_pred), torch.argmax(torch.Tensor(y_true), dim=-1))\n",
    "print(s2)"
   ]
  },
  {
   "cell_type": "code",
   "execution_count": 12,
   "metadata": {},
   "outputs": [
    {
     "name": "stdout",
     "output_type": "stream",
     "text": [
      "tf.Tensor(1.7532789707183838, shape=(), dtype=float64)\n"
     ]
    }
   ],
   "source": [
    "s3 = tf.keras.losses.CategoricalCrossentropy()(y_true, y_pred)\n",
    "print(s3)"
   ]
  },
  {
   "cell_type": "code",
   "execution_count": 21,
   "metadata": {},
   "outputs": [],
   "source": [
    "def cross_entropy_v2(y_pred, y_true):\n",
    "    # y_pred = torch.nn.functional.softmax(y_pred, dim=-1)\n",
    "    category = y_pred.size()[-1]\n",
    "    y_true = torch.nn.functional.one_hot(y_true, num_classes=category)\n",
    "    loss = - y_true * torch.log(y_pred)\n",
    "    return torch.mean(torch.sum(loss, dim=-1))"
   ]
  },
  {
   "cell_type": "code",
   "execution_count": 22,
   "metadata": {},
   "outputs": [
    {
     "name": "stdout",
     "output_type": "stream",
     "text": [
      "tensor(1.7533)\n"
     ]
    }
   ],
   "source": [
    "s4 = cross_entropy_v2(torch.Tensor(y_pred), torch.argmax(torch.Tensor(y_true), dim=-1))\n",
    "print(s4)"
   ]
  },
  {
   "cell_type": "code",
   "execution_count": 32,
   "metadata": {},
   "outputs": [],
   "source": [
    "def cross_entropy_v2(y_pred, y_true):\n",
    "    y_pred = torch.nn.functional.softmax(y_pred, dim=-1)                 \n",
    "    category = y_pred.size()[-1]\n",
    "    y_true = torch.nn.functional.one_hot(y_true, num_classes=category)\n",
    "    loss = - y_true * torch.log(y_pred)\n",
    "    return torch.mean(torch.sum(loss, dim=-1))"
   ]
  },
  {
   "cell_type": "code",
   "execution_count": 33,
   "metadata": {},
   "outputs": [
    {
     "name": "stdout",
     "output_type": "stream",
     "text": [
      "tensor(1.4425)\n"
     ]
    }
   ],
   "source": [
    "s5 = cross_entropy_v2(torch.Tensor(y_pred), torch.argmax(torch.Tensor(y_true), dim=-1))\n",
    "print(s5)"
   ]
  },
  {
   "cell_type": "code",
   "execution_count": 44,
   "metadata": {},
   "outputs": [
    {
     "name": "stdout",
     "output_type": "stream",
     "text": [
      "tf.Tensor(1.753278948659991, shape=(), dtype=float64)\n"
     ]
    }
   ],
   "source": [
    "def cross_entropy_v4(y_true, y_pred):\n",
    "    loss = -y_true * tf.math.log(y_pred)\n",
    "    return tf.reduce_mean(tf.reduce_sum(loss, axis=1))\n",
    "\n",
    "s6 = cross_entropy_v4(y_true, y_pred)\n",
    "print(s6)"
   ]
  },
  {
   "cell_type": "code",
   "execution_count": 42,
   "metadata": {},
   "outputs": [
    {
     "data": {
      "text/plain": [
       "<tf.Tensor: shape=(2, 4), dtype=float64, numpy=\n",
       "array([[-2.30258509, -1.60943791, -1.2039728 , -0.91629073],\n",
       "       [-0.91629073, -1.2039728 , -1.60943791, -2.30258509]])>"
      ]
     },
     "execution_count": 42,
     "metadata": {},
     "output_type": "execute_result"
    }
   ],
   "source": [
    "# tf.math.log(numpy.array([[0.1,0.2,0.3,0.4], [0.4,0.3,0.2,0.1]]))"
   ]
  },
  {
   "cell_type": "code",
   "execution_count": 45,
   "metadata": {},
   "outputs": [
    {
     "name": "stdout",
     "output_type": "stream",
     "text": [
      "tf.Tensor(1.4425355294551627, shape=(), dtype=float64)\n"
     ]
    }
   ],
   "source": [
    "def cross_entropy_v5(y_true, y_pred):\n",
    "    y_pred = tf.nn.softmax(y_pred, axis=-1)\n",
    "    loss = -y_true * tf.math.log(y_pred)\n",
    "    return tf.reduce_mean(tf.reduce_sum(loss, axis=1))\n",
    "\n",
    "s7 = cross_entropy_v5(y_true, y_pred)\n",
    "print(s7)"
   ]
  },
  {
   "cell_type": "code",
   "execution_count": 46,
   "metadata": {},
   "outputs": [
    {
     "name": "stdout",
     "output_type": "stream",
     "text": [
      "tf.Tensor(1.4425355195999146, shape=(), dtype=float64)\n"
     ]
    }
   ],
   "source": [
    "s8 = tf.keras.losses.CategoricalCrossentropy(from_logits=True)(y_true, y_pred)\n",
    "print(s8)"
   ]
  },
  {
   "cell_type": "code",
   "execution_count": 66,
   "metadata": {},
   "outputs": [
    {
     "name": "stdout",
     "output_type": "stream",
     "text": [
      "(2, 2)\n",
      "(2, 2, 4)\n",
      "[[[0.1 0.2 0.3 0.4]\n",
      "  [0.4 0.3 0.2 0.1]]\n",
      "\n",
      " [[0.1 0.2 0.3 0.4]\n",
      "  [0.4 0.3 0.2 0.1]]]\n"
     ]
    }
   ],
   "source": [
    "y_true = numpy.array([[1,0],[2,3]])\n",
    "y_pred = numpy.array([[[0.1,0.2,0.3,0.4], [0.4,0.3,0.2,0.1]], [[0.1,0.2,0.3,0.4], [0.4,0.3,0.2,0.1]]])\n",
    "print(y_true.shape)\n",
    "print(y_pred.shape)\n",
    "print(y_pred)"
   ]
  },
  {
   "cell_type": "code",
   "execution_count": 67,
   "metadata": {},
   "outputs": [
    {
     "data": {
      "text/plain": [
       "tensor(1.3925, dtype=torch.float64)"
      ]
     },
     "execution_count": 67,
     "metadata": {},
     "output_type": "execute_result"
    }
   ],
   "source": [
    "torch.nn.CrossEntropyLoss()(torch.tensor(y_pred.swapaxes(1,2)), torch.tensor(y_true))"
   ]
  },
  {
   "cell_type": "code",
   "execution_count": 51,
   "metadata": {},
   "outputs": [],
   "source": [
    "def cross_entropy(y_pred, y_true):\n",
    "    num_classes = y_pred.size()[-1]\n",
    "    y_pred = torch.nn.functional.softmax(y_pred, dim=-1)\n",
    "    y_true = torch.nn.functional.one_hot(y_true, num_classes=num_classes)\n",
    "    loss = - y_true * torch.log(y_pred)\n",
    "    return torch.mean(torch.sum(loss, dim=-1))"
   ]
  },
  {
   "cell_type": "code",
   "execution_count": 55,
   "metadata": {},
   "outputs": [
    {
     "data": {
      "text/plain": [
       "tensor(1.3925)"
      ]
     },
     "execution_count": 55,
     "metadata": {},
     "output_type": "execute_result"
    }
   ],
   "source": [
    "y_true = numpy.array([[1,0],[2,3]])\n",
    "y_pred = numpy.array([[[0.1,0.2,0.3,0.4], [0.4,0.3,0.2,0.1]], [[0.1,0.2,0.3,0.4], [0.4,0.3,0.2,0.1]]])\n",
    "cross_entropy(torch.Tensor(y_pred), torch.LongTensor(y_true))"
   ]
  },
  {
   "cell_type": "code",
   "execution_count": 60,
   "metadata": {},
   "outputs": [
    {
     "name": "stdout",
     "output_type": "stream",
     "text": [
      "tensor(1.5081, dtype=torch.float64)\n",
      "tf.Tensor(1.5080716609954834, shape=(), dtype=float64)\n"
     ]
    }
   ],
   "source": [
    "def cross_entropy(y_pred, y_true):\n",
    "    y_pred = torch.tensor(y_pred)\n",
    "    y_true = torch.tensor(y_true, dtype=torch.long)\n",
    "    num_classes = y_pred.size()[-1]\n",
    "    y_true = torch.nn.functional.one_hot(y_true, num_classes=num_classes)\n",
    "    loss = - y_true * torch.log(y_pred)\n",
    "    return torch.mean(torch.sum(loss, dim=-1))\n",
    "\n",
    "y_true = numpy.array([[1,0],[2,3]])\n",
    "y_pred = numpy.array([[[0.1,0.2,0.3,0.4], [0.4,0.3,0.2,0.1]], [[0.1,0.2,0.3,0.4], [0.4,0.3,0.2,0.1]]])\n",
    "print(cross_entropy(y_pred, y_true))\n",
    "print(tf.keras.losses.CategoricalCrossentropy()(tf.one_hot(y_true, 4), y_pred))"
   ]
  },
  {
   "cell_type": "code",
   "execution_count": 27,
   "metadata": {},
   "outputs": [
    {
     "data": {
      "text/plain": [
       "tensor([[[0, 1, 0, 0],\n",
       "         [1, 0, 0, 0]],\n",
       "\n",
       "        [[0, 0, 1, 0],\n",
       "         [0, 0, 0, 1]]])"
      ]
     },
     "execution_count": 27,
     "metadata": {},
     "output_type": "execute_result"
    }
   ],
   "source": [
    "y_true = torch.LongTensor([[1,0], [2,3]])\n",
    "torch.nn.functional.one_hot(y_true, num_classes=4)"
   ]
  },
  {
   "cell_type": "code",
   "execution_count": 33,
   "metadata": {},
   "outputs": [
    {
     "data": {
      "text/plain": [
       "tensor([[[0, 1, 0, 0],\n",
       "         [1, 0, 0, 0]],\n",
       "\n",
       "        [[0, 0, 1, 0],\n",
       "         [0, 0, 0, 1]]])"
      ]
     },
     "execution_count": 33,
     "metadata": {},
     "output_type": "execute_result"
    }
   ],
   "source": [
    "y_true = torch.tensor([[1,0], [2,3]], dtype=torch.long)\n",
    "torch.nn.functional.one_hot(y_true, num_classes=4)"
   ]
  },
  {
   "cell_type": "code",
   "execution_count": 20,
   "metadata": {},
   "outputs": [
    {
     "data": {
      "text/plain": [
       "tensor([[1, 0, 0],\n",
       "        [0, 1, 0],\n",
       "        [0, 0, 1],\n",
       "        [1, 0, 0],\n",
       "        [0, 1, 0]])"
      ]
     },
     "execution_count": 20,
     "metadata": {},
     "output_type": "execute_result"
    }
   ],
   "source": [
    "torch.nn.functional.one_hot(torch.arange(0, 5) % 3)"
   ]
  },
  {
   "cell_type": "code",
   "execution_count": 24,
   "metadata": {},
   "outputs": [
    {
     "data": {
      "text/plain": [
       "tensor([[0, 1],\n",
       "        [2, 0],\n",
       "        [1, 2]])"
      ]
     },
     "execution_count": 24,
     "metadata": {},
     "output_type": "execute_result"
    }
   ],
   "source": [
    "torch.arange(0, 6).view(3,2) % 3"
   ]
  },
  {
   "cell_type": "code",
   "execution_count": 25,
   "metadata": {},
   "outputs": [
    {
     "data": {
      "text/plain": [
       "tensor([[1., 0.],\n",
       "        [2., 3.]])"
      ]
     },
     "execution_count": 25,
     "metadata": {},
     "output_type": "execute_result"
    }
   ],
   "source": [
    "torch.Tensor([[1,0], [2,3]])"
   ]
  },
  {
   "cell_type": "code",
   "execution_count": 68,
   "metadata": {},
   "outputs": [
    {
     "data": {
      "text/plain": [
       "<tf.Tensor: shape=(), dtype=float64, numpy=1.3925354480743408>"
      ]
     },
     "execution_count": 68,
     "metadata": {},
     "output_type": "execute_result"
    }
   ],
   "source": [
    "y_true = numpy.array([[1,0],[2,3]])\n",
    "y_pred = numpy.array([[[0.1,0.2,0.3,0.4], [0.4,0.3,0.2,0.1]], [[0.1,0.2,0.3,0.4], [0.4,0.3,0.2,0.1]]])\n",
    "\n",
    "torch.nn.CrossEntropyLoss()(torch.tensor(y_pred.swapaxes(1,2)), torch.tensor(y_true))\n",
    "# tensor(1.3925, dtype=torch.float64)\n",
    "\n",
    "tf.keras.losses.CategoricalCrossentropy()(tf.one_hot(y_true, 4), tf.nn.softmax(y_pred))"
   ]
  },
  {
   "cell_type": "markdown",
   "metadata": {},
   "source": [
    "## 结论"
   ]
  },
  {
   "cell_type": "code",
   "execution_count": 3,
   "metadata": {},
   "outputs": [],
   "source": [
    "y_true = numpy.array([[1,0],[2,3]])\n",
    "y_pred = numpy.array([[[0.1,0.2,0.3,0.4], [0.4,0.3,0.2,0.1]], [[0.1,0.2,0.3,0.4], [0.4,0.3,0.2,0.1]]])"
   ]
  },
  {
   "cell_type": "markdown",
   "metadata": {},
   "source": [
    "### 1. tensorflow"
   ]
  },
  {
   "cell_type": "code",
   "execution_count": 4,
   "metadata": {},
   "outputs": [
    {
     "data": {
      "text/plain": [
       "<tf.Tensor: shape=(), dtype=float64, numpy=1.5080716609954834>"
      ]
     },
     "execution_count": 4,
     "metadata": {},
     "output_type": "execute_result"
    }
   ],
   "source": [
    "tf.keras.losses.SparseCategoricalCrossentropy()(y_true, y_pred)"
   ]
  },
  {
   "cell_type": "code",
   "execution_count": 5,
   "metadata": {},
   "outputs": [
    {
     "data": {
      "text/plain": [
       "<tf.Tensor: shape=(), dtype=float64, numpy=1.3925354480743408>"
      ]
     },
     "execution_count": 5,
     "metadata": {},
     "output_type": "execute_result"
    }
   ],
   "source": [
    "tf.keras.losses.SparseCategoricalCrossentropy(from_logits=True)(y_true, y_pred)"
   ]
  },
  {
   "cell_type": "code",
   "execution_count": 7,
   "metadata": {},
   "outputs": [
    {
     "data": {
      "text/plain": [
       "<tf.Tensor: shape=(), dtype=float64, numpy=1.5080716609954834>"
      ]
     },
     "execution_count": 7,
     "metadata": {},
     "output_type": "execute_result"
    }
   ],
   "source": [
    "tf.keras.losses.CategoricalCrossentropy()(tf.one_hot(y_true, 4), y_pred)"
   ]
  },
  {
   "cell_type": "code",
   "execution_count": 8,
   "metadata": {},
   "outputs": [
    {
     "data": {
      "text/plain": [
       "<tf.Tensor: shape=(), dtype=float64, numpy=1.3925354480743408>"
      ]
     },
     "execution_count": 8,
     "metadata": {},
     "output_type": "execute_result"
    }
   ],
   "source": [
    "tf.keras.losses.CategoricalCrossentropy(from_logits=True)(tf.one_hot(y_true, 4), y_pred)"
   ]
  },
  {
   "cell_type": "markdown",
   "metadata": {},
   "source": [
    "### 2. pytorch"
   ]
  },
  {
   "cell_type": "code",
   "execution_count": 9,
   "metadata": {},
   "outputs": [],
   "source": [
    "def cross_entropy(y_pred, y_true, from_logits=False):\n",
    "    num_classes = y_pred.size()[-1]\n",
    "    if from_logits:\n",
    "        y_pred = torch.nn.functional.softmax(y_pred, dim=-1)\n",
    "    y_true = torch.nn.functional.one_hot(y_true, num_classes=num_classes)\n",
    "    loss = - y_true * torch.log(y_pred)\n",
    "    return torch.mean(torch.sum(loss, dim=-1))"
   ]
  },
  {
   "cell_type": "code",
   "execution_count": 11,
   "metadata": {},
   "outputs": [
    {
     "data": {
      "text/plain": [
       "tensor(1.5081, dtype=torch.float64)"
      ]
     },
     "execution_count": 11,
     "metadata": {},
     "output_type": "execute_result"
    }
   ],
   "source": [
    "cross_entropy(torch.tensor(y_pred), torch.tensor(y_true), from_logits=False)"
   ]
  },
  {
   "cell_type": "code",
   "execution_count": 12,
   "metadata": {},
   "outputs": [
    {
     "data": {
      "text/plain": [
       "tensor(1.3925, dtype=torch.float64)"
      ]
     },
     "execution_count": 12,
     "metadata": {},
     "output_type": "execute_result"
    }
   ],
   "source": [
    "cross_entropy(torch.tensor(y_pred), torch.tensor(y_true), from_logits=True)"
   ]
  },
  {
   "cell_type": "code",
   "execution_count": 17,
   "metadata": {},
   "outputs": [
    {
     "data": {
      "text/plain": [
       "tensor(1.3925, dtype=torch.float64)"
      ]
     },
     "execution_count": 17,
     "metadata": {},
     "output_type": "execute_result"
    }
   ],
   "source": [
    "torch.nn.CrossEntropyLoss()(torch.tensor(y_pred.swapaxes(1,2)), torch.tensor(y_true))"
   ]
  },
  {
   "cell_type": "code",
   "execution_count": 18,
   "metadata": {},
   "outputs": [
    {
     "data": {
      "text/plain": [
       "tensor(1.3925, dtype=torch.float64)"
      ]
     },
     "execution_count": 18,
     "metadata": {},
     "output_type": "execute_result"
    }
   ],
   "source": [
    "torch.nn.CrossEntropyLoss()(torch.tensor(y_pred).transpose(1,2), torch.tensor(y_true))"
   ]
  },
  {
   "cell_type": "code",
   "execution_count": null,
   "metadata": {},
   "outputs": [],
   "source": []
  }
 ],
 "metadata": {
  "kernelspec": {
   "display_name": "cys_py3tf2.3",
   "language": "python",
   "name": "py3tf2.3"
  },
  "language_info": {
   "codemirror_mode": {
    "name": "ipython",
    "version": 3
   },
   "file_extension": ".py",
   "mimetype": "text/x-python",
   "name": "python",
   "nbconvert_exporter": "python",
   "pygments_lexer": "ipython3",
   "version": "3.6.2"
  }
 },
 "nbformat": 4,
 "nbformat_minor": 2
}
